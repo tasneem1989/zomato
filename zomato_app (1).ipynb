{
 "cells": [
  {
   "cell_type": "code",
   "execution_count": 1,
   "id": "00ec1033",
   "metadata": {
    "scrolled": true
   },
   "outputs": [],
   "source": [
    "from sklearn.tree import DecisionTreeClassifier\n",
    "import pandas as pd\n",
    "zomato_pipline=pd.read_csv('C:\\\\Users\\\\tasne\\\\Downloads\\\\intern-epsilon\\\\zomato.csv\\\\zomato.csv')\n"
   ]
  },
  {
   "cell_type": "code",
   "execution_count": 2,
   "id": "49f9541c",
   "metadata": {},
   "outputs": [],
   "source": [
    "zomato_pipline.rename(columns={'approx_cost(for two people)':'cost','listed_in(type)':'listed_type','listed_in(city)':'listed_city'},inplace=True)"
   ]
  },
  {
   "cell_type": "code",
   "execution_count": 3,
   "id": "cb812f2f",
   "metadata": {},
   "outputs": [],
   "source": [
    "zomato_pipline['rate'] = zomato_pipline['rate'].str.replace('/5','')"
   ]
  },
  {
   "cell_type": "code",
   "execution_count": 4,
   "id": "44b771e9",
   "metadata": {},
   "outputs": [],
   "source": [
    "zomato_pipline['rate'] = zomato_pipline['rate'].str.replace('-','0')"
   ]
  },
  {
   "cell_type": "code",
   "execution_count": 5,
   "id": "689b8762",
   "metadata": {},
   "outputs": [],
   "source": [
    "zomato_pipline['rate'] = zomato_pipline['rate'].str.replace('NEW','0')"
   ]
  },
  {
   "cell_type": "code",
   "execution_count": 6,
   "id": "4d038ba5",
   "metadata": {},
   "outputs": [],
   "source": [
    "zomato_pipline['rate'] = zomato_pipline['rate'].astype('float')"
   ]
  },
  {
   "cell_type": "code",
   "execution_count": 7,
   "id": "93e12050",
   "metadata": {},
   "outputs": [],
   "source": [
    "zomato_pipline.drop(columns=['url','address','phone','reviews_list','menu_item','dish_liked'],inplace=True)"
   ]
  },
  {
   "cell_type": "code",
   "execution_count": 8,
   "id": "a048458c",
   "metadata": {},
   "outputs": [],
   "source": [
    "def target(x):\n",
    "  if (x>=3.7):\n",
    "    return'succsses'\n",
    "  else :\n",
    "    return 'not succsses'  "
   ]
  },
  {
   "cell_type": "code",
   "execution_count": 9,
   "id": "c07c331e",
   "metadata": {},
   "outputs": [],
   "source": [
    "zomato_pipline['Target'] = zomato_pipline['rate'].apply(target)"
   ]
  },
  {
   "cell_type": "code",
   "execution_count": 10,
   "id": "78cd5567",
   "metadata": {},
   "outputs": [],
   "source": [
    "#zomato_pipline.drop('rate',inplace=True,axis=1)"
   ]
  },
  {
   "cell_type": "code",
   "execution_count": null,
   "id": "71256e9c",
   "metadata": {},
   "outputs": [],
   "source": []
  },
  {
   "cell_type": "code",
   "execution_count": 11,
   "id": "1b4dd0e4",
   "metadata": {},
   "outputs": [
    {
     "data": {
      "text/plain": [
       "21"
      ]
     },
     "execution_count": 11,
     "metadata": {},
     "output_type": "execute_result"
    }
   ],
   "source": [
    "zomato_pipline['location'].isna().sum()"
   ]
  },
  {
   "cell_type": "code",
   "execution_count": 12,
   "id": "d3d2d8b2",
   "metadata": {},
   "outputs": [],
   "source": [
    "zomato_pipline['location'].dropna(inplace=True)"
   ]
  },
  {
   "cell_type": "code",
   "execution_count": 13,
   "id": "c238e32d",
   "metadata": {},
   "outputs": [],
   "source": [
    "from sklearn.tree import DecisionTreeClassifier"
   ]
  },
  {
   "cell_type": "code",
   "execution_count": 14,
   "id": "7c9850d1",
   "metadata": {},
   "outputs": [],
   "source": [
    "from sklearn.model_selection import train_test_split"
   ]
  },
  {
   "cell_type": "code",
   "execution_count": 15,
   "id": "5ff1d5a1",
   "metadata": {},
   "outputs": [],
   "source": [
    "X=zomato_pipline.drop('Target',axis=1)\n",
    "y=zomato_pipline['Target']"
   ]
  },
  {
   "cell_type": "code",
   "execution_count": 16,
   "id": "f713d8bd",
   "metadata": {},
   "outputs": [],
   "source": [
    "x_train,x_test,y_train,y_test =train_test_split(X,y,random_state=42,test_size=0.2,stratify=y)"
   ]
  },
  {
   "cell_type": "code",
   "execution_count": 17,
   "id": "a0bcafeb",
   "metadata": {},
   "outputs": [],
   "source": [
    "numeric_columns = x_train.select_dtypes(exclude='object').columns"
   ]
  },
  {
   "cell_type": "code",
   "execution_count": 18,
   "id": "1b23d6f7",
   "metadata": {},
   "outputs": [],
   "source": [
    "categorical_columns = x_train.select_dtypes(include='object').columns"
   ]
  },
  {
   "cell_type": "code",
   "execution_count": 19,
   "id": "0de2d5c0",
   "metadata": {},
   "outputs": [],
   "source": [
    "from sklearn.preprocessing import StandardScaler\n",
    "from sklearn.impute import SimpleImputer\n",
    "from sklearn.pipeline import Pipeline\n",
    "numerical_features = Pipeline(steps=[('handeling missing values',SimpleImputer(strategy='median')),('scaling',StandardScaler(with_mean=False))])"
   ]
  },
  {
   "cell_type": "code",
   "execution_count": 20,
   "id": "01353337",
   "metadata": {},
   "outputs": [
    {
     "data": {
      "text/plain": [
       "Pipeline(steps=[('handeling missing values', SimpleImputer(strategy='median')),\n",
       "                ('scaling', StandardScaler(with_mean=False))])"
      ]
     },
     "execution_count": 20,
     "metadata": {},
     "output_type": "execute_result"
    }
   ],
   "source": [
    "numerical_features"
   ]
  },
  {
   "cell_type": "code",
   "execution_count": 21,
   "id": "10147162",
   "metadata": {},
   "outputs": [],
   "source": [
    "from sklearn.preprocessing import OneHotEncoder\n",
    "categorical_features = Pipeline(steps=[('handeling missing values',SimpleImputer(strategy='most_frequent')),\n",
    "                                      ('handle cat features',OneHotEncoder(handle_unknown='ignore',drop='first')),('scaling',StandardScaler(with_mean=False))])"
   ]
  },
  {
   "cell_type": "code",
   "execution_count": 22,
   "id": "0758f97c",
   "metadata": {},
   "outputs": [
    {
     "data": {
      "text/plain": [
       "Pipeline(steps=[('handeling missing values',\n",
       "                 SimpleImputer(strategy='most_frequent')),\n",
       "                ('handle cat features',\n",
       "                 OneHotEncoder(drop='first', handle_unknown='ignore')),\n",
       "                ('scaling', StandardScaler(with_mean=False))])"
      ]
     },
     "execution_count": 22,
     "metadata": {},
     "output_type": "execute_result"
    }
   ],
   "source": [
    "categorical_features"
   ]
  },
  {
   "cell_type": "code",
   "execution_count": 23,
   "id": "3bdd8319",
   "metadata": {},
   "outputs": [],
   "source": [
    "from sklearn.compose import ColumnTransformer\n",
    "preprocessing = ColumnTransformer(transformers=[('numeric',numerical_features,numeric_columns),('categorical',categorical_features,categorical_columns)],remainder='passthrough')"
   ]
  },
  {
   "cell_type": "code",
   "execution_count": 24,
   "id": "a28bca84",
   "metadata": {},
   "outputs": [],
   "source": [
    "final_pipline = Pipeline(steps=[('preprocessing',preprocessing),('modeling',DecisionTreeClassifier(max_depth= 4, criterion='entropy'))])"
   ]
  },
  {
   "cell_type": "code",
   "execution_count": 25,
   "id": "adff78a7",
   "metadata": {},
   "outputs": [
    {
     "data": {
      "text/plain": [
       "Pipeline(steps=[('preprocessing',\n",
       "                 ColumnTransformer(remainder='passthrough',\n",
       "                                   transformers=[('numeric',\n",
       "                                                  Pipeline(steps=[('handeling '\n",
       "                                                                   'missing '\n",
       "                                                                   'values',\n",
       "                                                                   SimpleImputer(strategy='median')),\n",
       "                                                                  ('scaling',\n",
       "                                                                   StandardScaler(with_mean=False))]),\n",
       "                                                  Index(['rate', 'votes'], dtype='object')),\n",
       "                                                 ('categorical',\n",
       "                                                  Pipeline(steps=[('handeling '\n",
       "                                                                   'missing '\n",
       "                                                                   'values',\n",
       "                                                                   SimpleImputer(strategy='most_frequent')),\n",
       "                                                                  ('handle cat '\n",
       "                                                                   'features',\n",
       "                                                                   OneHotEncoder(drop='first',\n",
       "                                                                                 handle_unknown='ignore')),\n",
       "                                                                  ('scaling',\n",
       "                                                                   StandardScaler(with_mean=False))]),\n",
       "                                                  Index(['name', 'online_order', 'book_table', 'location', 'rest_type',\n",
       "       'cuisines', 'cost', 'listed_type', 'listed_city'],\n",
       "      dtype='object'))])),\n",
       "                ('modeling',\n",
       "                 DecisionTreeClassifier(criterion='entropy', max_depth=4))])"
      ]
     },
     "execution_count": 25,
     "metadata": {},
     "output_type": "execute_result"
    }
   ],
   "source": [
    "final_pipline.fit(x_train,y_train)"
   ]
  },
  {
   "cell_type": "code",
   "execution_count": 26,
   "id": "5a3d5172",
   "metadata": {},
   "outputs": [
    {
     "name": "stderr",
     "output_type": "stream",
     "text": [
      "C:\\Users\\tasne\\anaconda3\\lib\\site-packages\\sklearn\\preprocessing\\_encoders.py:170: UserWarning: Found unknown categories in columns [0, 4, 5] during transform. These unknown categories will be encoded as all zeros\n",
      "  warnings.warn(\n"
     ]
    },
    {
     "data": {
      "text/plain": [
       "array(['not succsses', 'succsses', 'not succsses', ..., 'not succsses',\n",
       "       'succsses', 'succsses'], dtype=object)"
      ]
     },
     "execution_count": 26,
     "metadata": {},
     "output_type": "execute_result"
    }
   ],
   "source": [
    "final_pipline.predict(x_test)"
   ]
  },
  {
   "cell_type": "code",
   "execution_count": 27,
   "id": "5c4a040a",
   "metadata": {},
   "outputs": [
    {
     "data": {
      "text/plain": [
       "['zomato_pipeline_pipeline_test1.pkl']"
      ]
     },
     "execution_count": 27,
     "metadata": {},
     "output_type": "execute_result"
    }
   ],
   "source": [
    "import joblib\n",
    "joblib.dump(final_pipline,'zomato_pipeline_pipeline_test1.pkl')"
   ]
  },
  {
   "cell_type": "code",
   "execution_count": 28,
   "id": "4709cee7",
   "metadata": {},
   "outputs": [],
   "source": [
    "model = joblib.load('zomato_pipeline_pipeline_test1.pkl')"
   ]
  },
  {
   "cell_type": "code",
   "execution_count": 29,
   "id": "1dbb08f6",
   "metadata": {},
   "outputs": [
    {
     "name": "stderr",
     "output_type": "stream",
     "text": [
      "C:\\Users\\tasne\\anaconda3\\lib\\site-packages\\sklearn\\preprocessing\\_encoders.py:170: UserWarning: Found unknown categories in columns [6] during transform. These unknown categories will be encoded as all zeros\n",
      "  warnings.warn(\n"
     ]
    },
    {
     "data": {
      "text/plain": [
       "array(['succsses'], dtype=object)"
      ]
     },
     "execution_count": 29,
     "metadata": {},
     "output_type": "execute_result"
    }
   ],
   "source": [
    "prediction = model.predict(pd.DataFrame({'name':['Jalsa'],\n",
    "                                         'online_order':['Yes'], 'book_table':['Yes'],'rate':[4.1],\n",
    "                                             'votes':[775],'location':['Banashankari'],\n",
    "                                             'rest_type':['Casual Dining'],\n",
    "                                             'cuisines':['North Indian, Mughlai, Chinese'],\n",
    "                                             'cost':[800],\n",
    "                                            'listed_type':['Buffet'],\n",
    "                                        'listed_city':['Banashankari']}))\n",
    "prediction"
   ]
  },
  {
   "cell_type": "code",
   "execution_count": 30,
   "id": "065e37fc",
   "metadata": {},
   "outputs": [
    {
     "data": {
      "text/plain": [
       "Index(['name', 'online_order', 'book_table', 'rate', 'votes', 'location',\n",
       "       'rest_type', 'cuisines', 'cost', 'listed_type', 'listed_city',\n",
       "       'Target'],\n",
       "      dtype='object')"
      ]
     },
     "execution_count": 30,
     "metadata": {},
     "output_type": "execute_result"
    }
   ],
   "source": [
    "zomato_pipline.columns"
   ]
  },
  {
   "cell_type": "code",
   "execution_count": 31,
   "id": "488e3c44",
   "metadata": {},
   "outputs": [
    {
     "name": "stdout",
     "output_type": "stream",
     "text": [
      "Overwriting zomato_final_model_edit.py\n"
     ]
    }
   ],
   "source": [
    "%%writefile zomato_final_model_edit.py\n",
    "import pandas as pd\n",
    "import numpy as np\n",
    "import joblib\n",
    "import streamlit as st\n",
    "import sklearn\n",
    "import base64\n",
    "\n",
    "model = joblib.load('zomato_pipeline_pipeline_test1.pkl')\n",
    "def predict_Target(name, online_order, book_table,rate, votes,\n",
    "       location, rest_type,cuisines,cost,\n",
    "       listed_type, listed_city):\n",
    "    \n",
    "    prediction = model.predict(pd.DataFrame({'online_order':online_order,\n",
    "                                             'book_table':book_table,'rate':rate,\n",
    "                                             'votes':votes,'location':location,\n",
    "                                             'rest_type':rest_type,\n",
    "                                             'cuisines':cuisines,\n",
    "                                             'cost':cost,\n",
    "                                             'listed_type':listed_type,\n",
    "                                             'listed_city':listed_city}))\n",
    "    label=['succsses','not succsses']\n",
    "        \n",
    "    return  label[prediction[0]]\n",
    "    \n",
    "def main():\n",
    "    def add_bg_from_local(image_file):\n",
    "        with open(image_file, \"rb\") as image_file:\n",
    "            encoded_string = base64.b64encode(image_file.read())\n",
    "        st.markdown(\n",
    "        f\"\"\"\n",
    "            <style>\n",
    "            .stApp {{\n",
    "                background-image: url(data:image/{\"jpg\"};base64,{encoded_string.decode()});\n",
    "                background-size: cover\n",
    "            }}\n",
    "            </style>\n",
    "            \"\"\",\n",
    "            unsafe_allow_html=True\n",
    "            )\n",
    "    add_bg_from_local(\"C:\\\\Users\\\\tasne\\\\Downloads\\\\On.jpg\")    \n",
    "      \n",
    "    st.title('succsess Prediction')\n",
    "   \n",
    "    html_temp = \"\"\"\n",
    "        \n",
    "        <div style='background-color:white'>\n",
    "        <h2 style=\"color:red;text-align:center;\">resturants succsess</h2>\n",
    "        </div>\n",
    "                  \"\"\"\n",
    "    \n",
    "    st.markdown(html_temp,unsafe_allow_html=True)\n",
    "   \n",
    "    name=st.text_input('name','name')\n",
    "    online_order = st.selectbox('online_order',['Yes','No'])\n",
    "    book_table = st.selectbox('book_table',['Yes','No'])\n",
    "    rate=st.slider('rate',0,5)\n",
    "    votes = st.text_input('votes','votes')\n",
    "    location = st.text_input('location','location')\n",
    "    rest_type=st.text_input('rest_type','rest_type')\n",
    "    cuisines = st.text_input('cuisines','cuisines')\n",
    "    cost=st.slider('cost',100,3000)\n",
    "    listed_type = st.text_input('listed_type','listed_type')\n",
    "    listed_city=st.text_input('listed_city','listed_city')               \n",
    "    result = \"\"\n",
    "    if st.button('predict'):\n",
    "       result = predict_Target(name, online_order, book_table,rate, votes,\n",
    "                location, rest_type,cuisines, cost,\n",
    "                listed_type, listed_city)\n",
    "    st.success('The Target is {} '.format(result)) \n",
    "\n",
    "    \n",
    "\n",
    "if __name__ =='__main__':\n",
    "    main()\n",
    "        "
   ]
  },
  {
   "cell_type": "code",
   "execution_count": null,
   "id": "72e69e8e",
   "metadata": {},
   "outputs": [],
   "source": [
    "!streamlit run zomato_final_model_edit.py"
   ]
  },
  {
   "cell_type": "code",
   "execution_count": null,
   "id": "6192e155",
   "metadata": {},
   "outputs": [],
   "source": []
  }
 ],
 "metadata": {
  "kernelspec": {
   "display_name": "Python 3 (ipykernel)",
   "language": "python",
   "name": "python3"
  },
  "language_info": {
   "codemirror_mode": {
    "name": "ipython",
    "version": 3
   },
   "file_extension": ".py",
   "mimetype": "text/x-python",
   "name": "python",
   "nbconvert_exporter": "python",
   "pygments_lexer": "ipython3",
   "version": "3.9.13"
  }
 },
 "nbformat": 4,
 "nbformat_minor": 5
}
